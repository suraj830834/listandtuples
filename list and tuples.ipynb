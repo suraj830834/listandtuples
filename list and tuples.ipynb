{
 "cells": [
  {
   "cell_type": "code",
   "execution_count": 7,
   "id": "4fd18f98",
   "metadata": {},
   "outputs": [
    {
     "name": "stdout",
     "output_type": "stream",
     "text": [
      "(1, 2)\n",
      "(2, 5)\n",
      "(4, 4)\n",
      "(2, 3)\n",
      "(2, 1)\n"
     ]
    }
   ],
   "source": [
    "a=[(2, 5), (1, 2), (4, 4), (2, 3), (2, 1)]\n",
    "for j in range (1,len(a)) :\n",
    "     for i in range(len(a)-j):\n",
    "    \n",
    "      if a[i][1]>a[i+1][1] :\n",
    "        temp=a[i]\n",
    "\n",
    "a[i]=a[i+1]\n",
    "a[i+1]=temp\n",
    "\n",
    "for i in range(len(a)) :\n",
    "    print(a[i])"
   ]
  }
 ],
 "metadata": {
  "kernelspec": {
   "display_name": "Python 3 (ipykernel)",
   "language": "python",
   "name": "python3"
  },
  "language_info": {
   "codemirror_mode": {
    "name": "ipython",
    "version": 3
   },
   "file_extension": ".py",
   "mimetype": "text/x-python",
   "name": "python",
   "nbconvert_exporter": "python",
   "pygments_lexer": "ipython3",
   "version": "3.10.9"
  }
 },
 "nbformat": 4,
 "nbformat_minor": 5
}
